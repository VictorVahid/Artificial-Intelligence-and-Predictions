{
 "cells": [
  {
   "cell_type": "markdown",
   "metadata": {},
   "source": [
    "# Projeto Python IA: Inteligência Artificial e Previsões\n",
    "\n",
    "### Case: Score de Crédito dos Clientes\n",
    "\n",
    "Você foi contratado por um banco para conseguir definir o score de crédito dos clientes. Você precisa analisar todos os clientes do banco e, com base nessa análise, criar um modelo que consiga ler as informações do cliente e dizer automaticamente o score de crédito dele: Ruim, Ok, Bom\n",
    "\n",
    "Arquivos da aula: https://drive.google.com/drive/folders/1FbDqVq4XLvU85VBlVIMJ73p9oOu6u2-J?usp=drive_link"
   ]
  },
  {
   "cell_type": "code",
   "execution_count": null,
   "metadata": {},
   "outputs": [],
   "source": [
    "#Os passo que vamos fazer são:\n",
    "# 1- Importar a base de dados (feito)\n",
    "# 2- Verificar informações vazias (feito)\n",
    "# 3- Fazer o tratamento na base de dados (feito)\n",
    "# 4- Selecionar as colunas de treino para o modelo (feito)\n",
    "# 5- Treinar 2 modelos (feito)\n",
    "# 6- Verificar o melhor modelo\n",
    "# 7- Fazer novas previsões\n",
    "\n",
    "\n",
    "#instalação do pandas e skikit-learn\n",
    "#!pip install pandas numpy scikit-learn"
   ]
  },
  {
   "cell_type": "code",
   "execution_count": null,
   "metadata": {},
   "outputs": [],
   "source": [
    "# 1- Importar a base de dados \n",
    "import pandas as pd\n",
    "\n",
    "tabela = pd.read_csv(\"clientes.csv\")\n",
    "display(tabela)"
   ]
  },
  {
   "cell_type": "code",
   "execution_count": null,
   "metadata": {},
   "outputs": [],
   "source": [
    "# 2- Verificar informações vazias\n",
    "display(tabela.info())"
   ]
  },
  {
   "cell_type": "code",
   "execution_count": null,
   "metadata": {},
   "outputs": [],
   "source": [
    "# 3- Fazer o tratamento na base de dados\n",
    "\n",
    "#profissao   \n",
    "#mix_credito\n",
    "#comportamento_pagamento\n",
    "\n",
    "from sklearn.preprocessing import LabelEncoder #Da biblioteca sklearn importa o LabelEnconder\n",
    "\n",
    "codificador = LabelEncoder()\n",
    "\n",
    "#codificador -> Aplica na coluna \"profissão\"\n",
    "tabela[\"profissao\"] = codificador.fit_transform(tabela[\"profissao\"])\n",
    "#codificador -> Aplica na coluna \"mix_credito\"\n",
    "tabela[\"mix_credito\"] = codificador.fit_transform(tabela[\"mix_credito\"])\n",
    "#codificador -> Aplica na coluna \"comportamento_pagamento\"\n",
    "tabela[\"comportamento_pagamento\"] = codificador.fit_transform(tabela[\"comportamento_pagamento\"])\n",
    "\n",
    "\n",
    "display(tabela.info())"
   ]
  },
  {
   "cell_type": "code",
   "execution_count": null,
   "metadata": {},
   "outputs": [],
   "source": [
    "# 4- Selecionar as colunas de treino para o modelo\n",
    "\n",
    "# Modelos de Classificação\n",
    "\n",
    "#y é a coluna que você quer prevê\n",
    "#x é a coluna que você vai usar para fazer a previsão\n",
    "  #não iremos usar a coluna id_cliente porque é um número aleatório\n",
    "  \n",
    "y = tabela[\"score_credito\"]\n",
    "x = tabela.drop(columns=[\"score_credito\",\"id_cliente\"])\n",
    "\n",
    "#separação de base de treino/teste\n",
    "\n",
    "from sklearn.model_selection import train_test_split as tts\n",
    "\n",
    "x_treino, x_teste, y_treino, y_teste = tts (x ,y, test_size= 0.3 ) "
   ]
  },
  {
   "cell_type": "code",
   "execution_count": null,
   "metadata": {},
   "outputs": [],
   "source": [
    "# 5- Treinar 2 modelos\n",
    "\n",
    "#Árvore de Decisão -> RandomForest\n",
    "#KNN -> Neirest Neighbors -> Vizinhos Próximos -> Kneighbors\n",
    "\n",
    "\n",
    "# 1 - Importa a inteligência artificial \n",
    "from sklearn.ensemble import RandomForestClassifier\n",
    "from sklearn.neighbors import KNeighborsClassifier\n",
    "\n",
    "# 2 - cria a inteligência artificial\n",
    "modelo_arvoredecisao = RandomForestClassifier()\n",
    "modelo_knn = KNeighborsClassifier()\n",
    "\n",
    "# 3 - treina a ainteligência artificial\n",
    "modelo_arvoredecisao.fit(x_treino, y_treino)\n",
    "modelo_knn.fit(x_treino,y_treino)\n"
   ]
  },
  {
   "cell_type": "code",
   "execution_count": null,
   "metadata": {},
   "outputs": [],
   "source": [
    "# 6- Verificar o melhor modelo\n",
    "#acurácia \n",
    "from sklearn.metrics import accuracy_score #Importando ferramenta de acurácia\n",
    "\n",
    "#Aplicação de previsão entre bases de IA\n",
    "previsao_arvoredecisao = modelo_arvoredecisao.predict(x_teste)\n",
    "previsao_knn = modelo_knn.predict(x_teste.to_numpy())\n",
    "#Mostrando a comparação de ambos os modelos pela acurácia \n",
    "print(accuracy_score(y_teste,previsao_arvoredecisao)) \n",
    "print(accuracy_score(y_teste,previsao_knn))"
   ]
  },
  {
   "cell_type": "code",
   "execution_count": null,
   "metadata": {},
   "outputs": [],
   "source": [
    "# 7 - Fazer novas previsões\n",
    "\n",
    "#importar novos clientes\n",
    "novos_clientes = pd.read_csv(\"novos_clientes.csv\")\n",
    "display(novos_clientes)\n",
    "#codificar novos clientes \n",
    "\n",
    "#codificador -> Aplica na coluna \"profissão\"\n",
    "novos_clientes[\"profissao\"] = codificador.fit_transform(novos_clientes[\"profissao\"])\n",
    "#codificador -> Aplica na coluna \"mix_credito\"\n",
    "novos_clientes[\"mix_credito\"] = codificador.fit_transform(novos_clientes[\"mix_credito\"])\n",
    "#codificador -> Aplica na coluna \"comportamento_pagamento\"\n",
    "novos_clientes[\"comportamento_pagamento\"] = codificador.fit_transform(novos_clientes[\"comportamento_pagamento\"])\n",
    "\n",
    "#fazer as previsões\n",
    "\n",
    "previsoes = modelo_arvoredecisao.predict(novos_clientes)\n",
    "print(previsoes)"
   ]
  }
 ],
 "metadata": {
  "kernelspec": {
   "display_name": "Python 3",
   "language": "python",
   "name": "python3"
  },
  "language_info": {
   "codemirror_mode": {
    "name": "ipython",
    "version": 3
   },
   "file_extension": ".py",
   "mimetype": "text/x-python",
   "name": "python",
   "nbconvert_exporter": "python",
   "pygments_lexer": "ipython3",
   "version": "3.11.5"
  },
  "orig_nbformat": 4
 },
 "nbformat": 4,
 "nbformat_minor": 2
}
